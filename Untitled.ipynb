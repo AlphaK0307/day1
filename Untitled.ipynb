{
 "cells": [
  {
   "cell_type": "code",
   "execution_count": 3,
   "id": "0f734409",
   "metadata": {},
   "outputs": [],
   "source": [
    "# class human: \n",
    "#     name=None\n",
    "#     age=None\n",
    "#     def get_name(self):\n",
    "#         print('Enter Your Name')\n",
    "#         self.name=input()\n",
    "#     def get_age(self):\n",
    "#         print('Enter Your Age')\n",
    "#         self.age=input()\n",
    "#     def put_name(self):\n",
    "#         print('your name is', self.name)\n",
    "#     def put_age(self):\n",
    "#         print('your age is', self.age)"
   ]
  },
  {
   "cell_type": "code",
   "execution_count": 4,
   "id": "ffb9987f",
   "metadata": {},
   "outputs": [],
   "source": [
    "person1=human()"
   ]
  },
  {
   "cell_type": "code",
   "execution_count": 5,
   "id": "837fc1cf",
   "metadata": {},
   "outputs": [
    {
     "name": "stdout",
     "output_type": "stream",
     "text": [
      "Enter Your Name\n",
      "Keyur\n"
     ]
    }
   ],
   "source": [
    "person1.get_name()"
   ]
  },
  {
   "cell_type": "code",
   "execution_count": 7,
   "id": "91a5fcc6",
   "metadata": {},
   "outputs": [
    {
     "name": "stdout",
     "output_type": "stream",
     "text": [
      "Enter Your Age\n",
      "24\n"
     ]
    }
   ],
   "source": [
    "person1.get_age()"
   ]
  },
  {
   "cell_type": "code",
   "execution_count": 8,
   "id": "f68f4a1f",
   "metadata": {},
   "outputs": [],
   "source": [
    "class student:\n",
    "    def __init__(self,name,age,branch):\n",
    "        self.name=name\n",
    "        self.age=age\n",
    "        self.branch=branch\n",
    "    def print_student(self):\n",
    "        print('name', self.name)\n",
    "        print('age', self.age)\n",
    "        print('branch', self.branch)"
   ]
  },
  {
   "cell_type": "code",
   "execution_count": 10,
   "id": "08c79c3e",
   "metadata": {},
   "outputs": [],
   "source": [
    "student1= student('BOB', 12,'Engineering')"
   ]
  },
  {
   "cell_type": "code",
   "execution_count": 12,
   "id": "829bc072",
   "metadata": {},
   "outputs": [
    {
     "name": "stdout",
     "output_type": "stream",
     "text": [
      "name BOB\n",
      "age 12\n",
      "branch Engineering\n"
     ]
    }
   ],
   "source": [
    "student1.print_student()"
   ]
  },
  {
   "cell_type": "code",
   "execution_count": null,
   "id": "bc5e676d",
   "metadata": {},
   "outputs": [],
   "source": []
  }
 ],
 "metadata": {
  "kernelspec": {
   "display_name": "Python 3 (ipykernel)",
   "language": "python",
   "name": "python3"
  },
  "language_info": {
   "codemirror_mode": {
    "name": "ipython",
    "version": 3
   },
   "file_extension": ".py",
   "mimetype": "text/x-python",
   "name": "python",
   "nbconvert_exporter": "python",
   "pygments_lexer": "ipython3",
   "version": "3.9.7"
  }
 },
 "nbformat": 4,
 "nbformat_minor": 5
}
